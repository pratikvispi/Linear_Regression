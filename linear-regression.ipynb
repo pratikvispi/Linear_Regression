{
 "cells": [
  {
   "cell_type": "code",
   "execution_count": 1,
   "metadata": {
    "execution": {
     "iopub.execute_input": "2021-03-15T11:57:25.508354Z",
     "iopub.status.busy": "2021-03-15T11:57:25.507541Z",
     "iopub.status.idle": "2021-03-15T11:57:26.396905Z",
     "shell.execute_reply": "2021-03-15T11:57:26.397544Z"
    },
    "papermill": {
     "duration": 0.907337,
     "end_time": "2021-03-15T11:57:26.397893",
     "exception": false,
     "start_time": "2021-03-15T11:57:25.490556",
     "status": "completed"
    },
    "tags": []
   },
   "outputs": [],
   "source": [
    "import pandas as pd\n",
    "import numpy as np\n",
    "import matplotlib.pyplot as plt\n",
    "from sklearn.linear_model import LinearRegression"
   ]
  },
  {
   "cell_type": "code",
   "execution_count": 2,
   "metadata": {
    "execution": {
     "iopub.execute_input": "2021-03-15T11:57:26.422461Z",
     "iopub.status.busy": "2021-03-15T11:57:26.421872Z",
     "iopub.status.idle": "2021-03-15T11:57:26.449126Z",
     "shell.execute_reply": "2021-03-15T11:57:26.449663Z"
    },
    "papermill": {
     "duration": 0.040834,
     "end_time": "2021-03-15T11:57:26.449834",
     "exception": false,
     "start_time": "2021-03-15T11:57:26.409000",
     "status": "completed"
    },
    "tags": []
   },
   "outputs": [],
   "source": [
    "train = pd.read_csv('../input/random-linear-regression/train.csv')\n",
    "test = pd.read_csv('../input/random-linear-regression/test.csv')"
   ]
  },
  {
   "cell_type": "code",
   "execution_count": 3,
   "metadata": {
    "execution": {
     "iopub.execute_input": "2021-03-15T11:57:26.475352Z",
     "iopub.status.busy": "2021-03-15T11:57:26.474632Z",
     "iopub.status.idle": "2021-03-15T11:57:26.499120Z",
     "shell.execute_reply": "2021-03-15T11:57:26.499775Z"
    },
    "papermill": {
     "duration": 0.038917,
     "end_time": "2021-03-15T11:57:26.499992",
     "exception": false,
     "start_time": "2021-03-15T11:57:26.461075",
     "status": "completed"
    },
    "tags": []
   },
   "outputs": [
    {
     "name": "stdout",
     "output_type": "stream",
     "text": [
      "<class 'pandas.core.frame.DataFrame'>\n",
      "RangeIndex: 700 entries, 0 to 699\n",
      "Data columns (total 2 columns):\n",
      " #   Column  Non-Null Count  Dtype  \n",
      "---  ------  --------------  -----  \n",
      " 0   x       700 non-null    float64\n",
      " 1   y       699 non-null    float64\n",
      "dtypes: float64(2)\n",
      "memory usage: 11.1 KB\n"
     ]
    }
   ],
   "source": [
    "train.info()"
   ]
  },
  {
   "cell_type": "code",
   "execution_count": 4,
   "metadata": {
    "execution": {
     "iopub.execute_input": "2021-03-15T11:57:26.527285Z",
     "iopub.status.busy": "2021-03-15T11:57:26.526644Z",
     "iopub.status.idle": "2021-03-15T11:57:26.539192Z",
     "shell.execute_reply": "2021-03-15T11:57:26.538207Z"
    },
    "papermill": {
     "duration": 0.026605,
     "end_time": "2021-03-15T11:57:26.539400",
     "exception": false,
     "start_time": "2021-03-15T11:57:26.512795",
     "status": "completed"
    },
    "tags": []
   },
   "outputs": [
    {
     "name": "stdout",
     "output_type": "stream",
     "text": [
      "<class 'pandas.core.frame.DataFrame'>\n",
      "RangeIndex: 300 entries, 0 to 299\n",
      "Data columns (total 2 columns):\n",
      " #   Column  Non-Null Count  Dtype  \n",
      "---  ------  --------------  -----  \n",
      " 0   x       300 non-null    int64  \n",
      " 1   y       300 non-null    float64\n",
      "dtypes: float64(1), int64(1)\n",
      "memory usage: 4.8 KB\n"
     ]
    }
   ],
   "source": [
    "test.info()"
   ]
  },
  {
   "cell_type": "code",
   "execution_count": 5,
   "metadata": {
    "execution": {
     "iopub.execute_input": "2021-03-15T11:57:26.570429Z",
     "iopub.status.busy": "2021-03-15T11:57:26.569889Z",
     "iopub.status.idle": "2021-03-15T11:57:26.573790Z",
     "shell.execute_reply": "2021-03-15T11:57:26.573207Z"
    },
    "papermill": {
     "duration": 0.021957,
     "end_time": "2021-03-15T11:57:26.573930",
     "exception": false,
     "start_time": "2021-03-15T11:57:26.551973",
     "status": "completed"
    },
    "tags": []
   },
   "outputs": [
    {
     "data": {
      "text/plain": [
       "(700, 2)"
      ]
     },
     "execution_count": 5,
     "metadata": {},
     "output_type": "execute_result"
    }
   ],
   "source": [
    "train.shape"
   ]
  },
  {
   "cell_type": "code",
   "execution_count": 6,
   "metadata": {
    "execution": {
     "iopub.execute_input": "2021-03-15T11:57:26.601601Z",
     "iopub.status.busy": "2021-03-15T11:57:26.601034Z",
     "iopub.status.idle": "2021-03-15T11:57:26.605699Z",
     "shell.execute_reply": "2021-03-15T11:57:26.606211Z"
    },
    "papermill": {
     "duration": 0.020214,
     "end_time": "2021-03-15T11:57:26.606368",
     "exception": false,
     "start_time": "2021-03-15T11:57:26.586154",
     "status": "completed"
    },
    "tags": []
   },
   "outputs": [
    {
     "data": {
      "text/plain": [
       "(300, 2)"
      ]
     },
     "execution_count": 6,
     "metadata": {},
     "output_type": "execute_result"
    }
   ],
   "source": [
    "test.shape"
   ]
  },
  {
   "cell_type": "code",
   "execution_count": 7,
   "metadata": {
    "execution": {
     "iopub.execute_input": "2021-03-15T11:57:26.635039Z",
     "iopub.status.busy": "2021-03-15T11:57:26.634451Z",
     "iopub.status.idle": "2021-03-15T11:57:26.656928Z",
     "shell.execute_reply": "2021-03-15T11:57:26.655700Z"
    },
    "papermill": {
     "duration": 0.037808,
     "end_time": "2021-03-15T11:57:26.657069",
     "exception": false,
     "start_time": "2021-03-15T11:57:26.619261",
     "status": "completed"
    },
    "tags": []
   },
   "outputs": [],
   "source": [
    "# Dropping the null valus if exists \n",
    "train.dropna(inplace = True)\n",
    "test.dropna(inplace = True)"
   ]
  },
  {
   "cell_type": "code",
   "execution_count": 8,
   "metadata": {
    "execution": {
     "iopub.execute_input": "2021-03-15T11:57:26.687517Z",
     "iopub.status.busy": "2021-03-15T11:57:26.686901Z",
     "iopub.status.idle": "2021-03-15T11:57:26.690184Z",
     "shell.execute_reply": "2021-03-15T11:57:26.689517Z"
    },
    "papermill": {
     "duration": 0.020445,
     "end_time": "2021-03-15T11:57:26.690314",
     "exception": false,
     "start_time": "2021-03-15T11:57:26.669869",
     "status": "completed"
    },
    "tags": []
   },
   "outputs": [
    {
     "data": {
      "text/plain": [
       "(699, 2)"
      ]
     },
     "execution_count": 8,
     "metadata": {},
     "output_type": "execute_result"
    }
   ],
   "source": [
    "train.shape"
   ]
  },
  {
   "cell_type": "code",
   "execution_count": 9,
   "metadata": {
    "execution": {
     "iopub.execute_input": "2021-03-15T11:57:26.721227Z",
     "iopub.status.busy": "2021-03-15T11:57:26.720649Z",
     "iopub.status.idle": "2021-03-15T11:57:26.724288Z",
     "shell.execute_reply": "2021-03-15T11:57:26.723754Z"
    },
    "papermill": {
     "duration": 0.020729,
     "end_time": "2021-03-15T11:57:26.724407",
     "exception": false,
     "start_time": "2021-03-15T11:57:26.703678",
     "status": "completed"
    },
    "tags": []
   },
   "outputs": [
    {
     "data": {
      "text/plain": [
       "(300, 2)"
      ]
     },
     "execution_count": 9,
     "metadata": {},
     "output_type": "execute_result"
    }
   ],
   "source": [
    "test.shape"
   ]
  },
  {
   "cell_type": "code",
   "execution_count": 10,
   "metadata": {
    "execution": {
     "iopub.execute_input": "2021-03-15T11:57:26.757491Z",
     "iopub.status.busy": "2021-03-15T11:57:26.756896Z",
     "iopub.status.idle": "2021-03-15T11:57:27.015743Z",
     "shell.execute_reply": "2021-03-15T11:57:27.016175Z"
    },
    "papermill": {
     "duration": 0.278322,
     "end_time": "2021-03-15T11:57:27.016358",
     "exception": false,
     "start_time": "2021-03-15T11:57:26.738036",
     "status": "completed"
    },
    "tags": []
   },
   "outputs": [
    {
     "data": {
      "image/png": "[encoded data removed]",
      "text/plain": [
       "<Figure size 432x288 with 1 Axes>"
      ]
     },
     "metadata": {
      "needs_background": "light"
     },
     "output_type": "display_data"
    }
   ],
   "source": [
    "#plotting the train data using matplotlib\n",
    "plt.title('Scatter plot of train data')\n",
    "plt.scatter(train['x'] , train['y'] , color = 'red')\n",
    "plt.xlabel('x train')\n",
    "plt.ylabel('y train')\n",
    "plt.show()"
   ]
  },
  {
   "cell_type": "code",
   "execution_count": 11,
   "metadata": {
    "execution": {
     "iopub.execute_input": "2021-03-15T11:57:27.051351Z",
     "iopub.status.busy": "2021-03-15T11:57:27.050754Z",
     "iopub.status.idle": "2021-03-15T11:57:27.193068Z",
     "shell.execute_reply": "2021-03-15T11:57:27.193601Z"
    },
    "papermill": {
     "duration": 0.162208,
     "end_time": "2021-03-15T11:57:27.193777",
     "exception": false,
     "start_time": "2021-03-15T11:57:27.031569",
     "status": "completed"
    },
    "tags": []
   },
   "outputs": [
    {
     "data": {
      "image/png": "[encoded data removed]",
      "text/plain": [
       "<Figure size 432x288 with 1 Axes>"
      ]
     },
     "metadata": {
      "needs_background": "light"
     },
     "output_type": "display_data"
    }
   ],
   "source": [
    "plt.title('scatter plot of test data')\n",
    "plt.scatter(test['x'] , test['y'] , color = 'blue')\n",
    "plt.xlabel('x test')\n",
    "plt.ylabel('y test')\n",
    "plt.show()\n"
   ]
  },
  {
   "cell_type": "code",
   "execution_count": 12,
   "metadata": {
    "execution": {
     "iopub.execute_input": "2021-03-15T11:57:27.228310Z",
     "iopub.status.busy": "2021-03-15T11:57:27.227672Z",
     "iopub.status.idle": "2021-03-15T11:57:27.233274Z",
     "shell.execute_reply": "2021-03-15T11:57:27.232689Z"
    },
    "papermill": {
     "duration": 0.023626,
     "end_time": "2021-03-15T11:57:27.233413",
     "exception": false,
     "start_time": "2021-03-15T11:57:27.209787",
     "status": "completed"
    },
    "tags": []
   },
   "outputs": [],
   "source": [
    "x_train = train.iloc[:,0].values.reshape(-1,1)\n",
    "y_train = train.iloc[:,1].values.reshape(-1,1)"
   ]
  },
  {
   "cell_type": "code",
   "execution_count": 13,
   "metadata": {
    "execution": {
     "iopub.execute_input": "2021-03-15T11:57:27.270951Z",
     "iopub.status.busy": "2021-03-15T11:57:27.270180Z",
     "iopub.status.idle": "2021-03-15T11:57:27.272861Z",
     "shell.execute_reply": "2021-03-15T11:57:27.272265Z"
    },
    "papermill": {
     "duration": 0.023751,
     "end_time": "2021-03-15T11:57:27.273038",
     "exception": false,
     "start_time": "2021-03-15T11:57:27.249287",
     "status": "completed"
    },
    "tags": []
   },
   "outputs": [],
   "source": [
    "x_test = train.iloc[:,0].values.reshape(-1,1)\n",
    "y_test = train.iloc[:,1].values.reshape(-1,1)"
   ]
  },
  {
   "cell_type": "code",
   "execution_count": 14,
   "metadata": {
    "execution": {
     "iopub.execute_input": "2021-03-15T11:57:27.308373Z",
     "iopub.status.busy": "2021-03-15T11:57:27.307426Z",
     "iopub.status.idle": "2021-03-15T11:57:27.311149Z",
     "shell.execute_reply": "2021-03-15T11:57:27.311654Z"
    },
    "papermill": {
     "duration": 0.022809,
     "end_time": "2021-03-15T11:57:27.311809",
     "exception": false,
     "start_time": "2021-03-15T11:57:27.289000",
     "status": "completed"
    },
    "tags": []
   },
   "outputs": [],
   "source": [
    "linear  = LinearRegression()"
   ]
  },
  {
   "cell_type": "code",
   "execution_count": 15,
   "metadata": {
    "execution": {
     "iopub.execute_input": "2021-03-15T11:57:27.354591Z",
     "iopub.status.busy": "2021-03-15T11:57:27.353997Z",
     "iopub.status.idle": "2021-03-15T11:57:27.366069Z",
     "shell.execute_reply": "2021-03-15T11:57:27.366564Z"
    },
    "papermill": {
     "duration": 0.038938,
     "end_time": "2021-03-15T11:57:27.366732",
     "exception": false,
     "start_time": "2021-03-15T11:57:27.327794",
     "status": "completed"
    },
    "tags": []
   },
   "outputs": [
    {
     "data": {
      "text/plain": [
       "LinearRegression()"
      ]
     },
     "execution_count": 15,
     "metadata": {},
     "output_type": "execute_result"
    }
   ],
   "source": [
    "linear.fit(x_train , y_train)"
   ]
  },
  {
   "cell_type": "code",
   "execution_count": 16,
   "metadata": {
    "collapsed": true,
    "execution": {
     "iopub.execute_input": "2021-03-15T11:57:27.403330Z",
     "iopub.status.busy": "2021-03-15T11:57:27.402692Z",
     "iopub.status.idle": "2021-03-15T11:57:27.406826Z",
     "shell.execute_reply": "2021-03-15T11:57:27.406344Z"
    },
    "papermill": {
     "duration": 0.023882,
     "end_time": "2021-03-15T11:57:27.406970",
     "exception": false,
     "start_time": "2021-03-15T11:57:27.383088",
     "status": "completed"
    },
    "tags": []
   },
   "outputs": [],
   "source": [
    "data_prediction = linear.predict(x_test)\n",
    "# data_prediction"
   ]
  },
  {
   "cell_type": "code",
   "execution_count": 17,
   "metadata": {
    "execution": {
     "iopub.execute_input": "2021-03-15T11:57:27.443298Z",
     "iopub.status.busy": "2021-03-15T11:57:27.442654Z",
     "iopub.status.idle": "2021-03-15T11:57:27.643331Z",
     "shell.execute_reply": "2021-03-15T11:57:27.643826Z"
    },
    "papermill": {
     "duration": 0.220272,
     "end_time": "2021-03-15T11:57:27.644013",
     "exception": false,
     "start_time": "2021-03-15T11:57:27.423741",
     "status": "completed"
    },
    "tags": []
   },
   "outputs": [
    {
     "data": {
      "image/png": "[encoded data removed]",
      "text/plain": [
       "<Figure size 432x288 with 1 Axes>"
      ]
     },
     "metadata": {
      "needs_background": "light"
     },
     "output_type": "display_data"
    }
   ],
   "source": [
    "plt.title('Plotting the predicted data')\n",
    "plt.scatter(x_train , y_train , label = 'training data',color  = 'blue')\n",
    "plt.scatter(x_test , data_prediction , label = 'linear regression',color  = 'red')\n",
    "plt.xlabel('x')\n",
    "plt.ylabel('y')\n",
    "plt.legend()\n",
    "plt.show()"
   ]
  },
  {
   "cell_type": "code",
   "execution_count": 18,
   "metadata": {
    "execution": {
     "iopub.execute_input": "2021-03-15T11:57:27.682381Z",
     "iopub.status.busy": "2021-03-15T11:57:27.681737Z",
     "iopub.status.idle": "2021-03-15T11:57:27.686937Z",
     "shell.execute_reply": "2021-03-15T11:57:27.687553Z"
    },
    "papermill": {
     "duration": 0.026192,
     "end_time": "2021-03-15T11:57:27.687705",
     "exception": false,
     "start_time": "2021-03-15T11:57:27.661513",
     "status": "completed"
    },
    "tags": []
   },
   "outputs": [
    {
     "name": "stdout",
     "output_type": "stream",
     "text": [
      "0.9905948841595947\n"
     ]
    }
   ],
   "source": [
    "#accuracy check\n",
    "score = linear.score(y_test , data_prediction)\n",
    "print(score)"
   ]
  }
 ],
 "metadata": {
  "kernelspec": {
   "display_name": "Python 3",
   "language": "python",
   "name": "python3"
  },
  "language_info": {
   "codemirror_mode": {
    "name": "ipython",
    "version": 3
   },
   "file_extension": ".py",
   "mimetype": "text/x-python",
   "name": "python",
   "nbconvert_exporter": "python",
   "pygments_lexer": "ipython3",
   "version": "3.7.9"
  },
  "papermill": {
   "default_parameters": {},
   "duration": 7.972175,
   "end_time": "2021-03-15T11:57:28.313615",
   "environment_variables": {},
   "exception": null,
   "input_path": "__notebook__.ipynb",
   "output_path": "__notebook__.ipynb",
   "parameters": {},
   "start_time": "2021-03-15T11:57:20.341440",
   "version": "2.2.2"
  }
 },
 "nbformat": 4,
 "nbformat_minor": 4
}
